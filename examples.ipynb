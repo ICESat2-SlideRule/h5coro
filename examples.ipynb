{
 "cells": [
  {
   "cell_type": "markdown",
   "id": "229a10a2-606a-452b-8538-9c6e7d77585b",
   "metadata": {
    "user_expressions": []
   },
   "source": [
    "# Examples"
   ]
  },
  {
   "cell_type": "markdown",
   "id": "d9d216f9-0a12-47cd-b9a3-80f1cb1ad0fc",
   "metadata": {
    "user_expressions": []
   },
   "source": [
    "## xarray integration\n",
    "\n",
    "**run in an environment with h5coro installed**\n",
    "\n",
    "Using the h5coro engine to open data in xarray."
   ]
  },
  {
   "cell_type": "code",
   "execution_count": null,
   "id": "0bde7cfe-cf6c-4346-acdb-5f9351da27ee",
   "metadata": {
    "tags": []
   },
   "outputs": [],
   "source": [
    "# import warnings\n",
    "\n",
    "# warnings.filterwarnings('ignore')"
   ]
  },
  {
   "cell_type": "code",
   "execution_count": null,
   "id": "9f8607a8-2cea-4d68-af68-cdd07e053580",
   "metadata": {
    "tags": []
   },
   "outputs": [],
   "source": [
    "import xarray as xr\n",
    "import earthaccess"
   ]
  },
  {
   "cell_type": "code",
   "execution_count": null,
   "id": "e782b5c9-b9fa-4bf8-8057-b3a785b2f550",
   "metadata": {},
   "outputs": [],
   "source": [
    "from h5coro.datasets import icesat2\n",
    "col_convs = {} # {\"delta_time\": icesat2.to_datetime}"
   ]
  },
  {
   "cell_type": "markdown",
   "id": "bef47b14-e1c4-49b4-ae09-d43a043fdd11",
   "metadata": {
    "user_expressions": []
   },
   "source": [
    "Accessing a cloud file"
   ]
  },
  {
   "cell_type": "code",
   "execution_count": null,
   "id": "5008897b-6b6f-4889-89c7-f7d66d643308",
   "metadata": {
    "scrolled": true,
    "tags": []
   },
   "outputs": [],
   "source": [
    "s3url_atl03 = 'nsidc-cumulus-prod-protected/ATLAS/ATL03/006/2019/11/30/' \\\n",
    "                'ATL03_20191130112041_09860505_006_01.h5'\n",
    "auth = earthaccess.login()\n",
    "creds = auth.get_s3_credentials(daac='NSIDC')\n",
    "ds = xr.open_dataset(s3url_atl03, engine='h5coro', group='/gt1l/heights', col_convs=col_convs, credentials=creds)\n",
    "ds"
   ]
  },
  {
   "cell_type": "code",
   "execution_count": null,
   "id": "4c1516c4-7229-428d-9258-362a8960c372",
   "metadata": {},
   "outputs": [],
   "source": []
  },
  {
   "cell_type": "markdown",
   "id": "41bdb45f-0869-4e87-8093-13a6f8e8f97b",
   "metadata": {
    "user_expressions": []
   },
   "source": [
    "Accessing a local file"
   ]
  },
  {
   "cell_type": "code",
   "execution_count": null,
   "id": "adf17023-ea16-432b-ba8e-a4fdb20e92f0",
   "metadata": {
    "tags": []
   },
   "outputs": [],
   "source": [
    "local_path = 'file:///home/jovyan/data/ATL03/processed_ATL03_20191130220138_09930502_006_01.h5'\n",
    "ds = xr.open_dataset(local_path, engine='h5coro', group='/gt1l/heights')\n",
    "ds"
   ]
  },
  {
   "cell_type": "code",
   "execution_count": null,
   "id": "2a73b89e-bf8a-4a77-b95b-1761a08fc97c",
   "metadata": {},
   "outputs": [],
   "source": []
  },
  {
   "cell_type": "markdown",
   "id": "b481ff10-ba01-468e-be65-851fd945e8ca",
   "metadata": {
    "user_expressions": []
   },
   "source": [
    "## What xarray typically returns\n",
    "\n",
    "**run in an environment without h5coro installed**\n",
    "\n",
    "Accessing cloud ATL03 data without using h5coro."
   ]
  },
  {
   "cell_type": "code",
   "execution_count": null,
   "id": "c0edee48-4efd-49d0-b22a-f643df5ebb38",
   "metadata": {},
   "outputs": [],
   "source": [
    "import xarray as xr\n",
    "import earthaccess"
   ]
  },
  {
   "cell_type": "code",
   "execution_count": null,
   "id": "27bb3fb7-4443-4d01-9dd1-c0e52f7a4e81",
   "metadata": {},
   "outputs": [],
   "source": [
    "s3url_atl03 = 'nsidc-cumulus-prod-protected/ATLAS/ATL03/006/2019/11/30/ATL03_20191130112041_09860505_006_01.h5'"
   ]
  },
  {
   "cell_type": "code",
   "execution_count": null,
   "id": "893a5d45-3039-4f5d-97c7-e05ec8865de9",
   "metadata": {},
   "outputs": [],
   "source": [
    "auth = earthaccess.login()\n",
    "s3 = earthaccess.get_s3fs_session(daac=\"NSIDC\", provider=auth)"
   ]
  },
  {
   "cell_type": "code",
   "execution_count": null,
   "id": "b2be9ca9-8a1e-4781-b17b-0645c1c26a54",
   "metadata": {},
   "outputs": [],
   "source": [
    "ds = xr.open_dataset(s3.open(s3url_atl03, 'rb'), group='/gt1l/heights')\n",
    "ds"
   ]
  },
  {
   "cell_type": "code",
   "execution_count": null,
   "id": "9fad7d0e-6e80-49df-ab42-2773cbf4bf8a",
   "metadata": {},
   "outputs": [],
   "source": []
  }
 ],
 "metadata": {
  "kernelspec": {
   "display_name": "Python 3 (ipykernel)",
   "language": "python",
   "name": "python3"
  },
  "language_info": {
   "codemirror_mode": {
    "name": "ipython",
    "version": 3
   },
   "file_extension": ".py",
   "mimetype": "text/x-python",
   "name": "python",
   "nbconvert_exporter": "python",
   "pygments_lexer": "ipython3",
   "version": "3.12.0"
  }
 },
 "nbformat": 4,
 "nbformat_minor": 5
}
